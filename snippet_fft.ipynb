{
 "cells": [
  {
   "cell_type": "code",
   "execution_count": 11,
   "metadata": {},
   "outputs": [],
   "source": [
    "import os\n",
    "os.environ[\"CUDA_DEVICE_ORDER\"]=\"PCI_BUS_ID\"   # see issue #152\n",
    "os.environ[\"CUDA_VISIBLE_DEVICES\"]=\"1\"\n",
    "\n",
    "import sys\n",
    "import time\n",
    "import torch\n",
    "from torch.functional import Tensor\n",
    "from tqdm import tqdm\n",
    "from collections import OrderedDict\n",
    "from torchvision import transforms as T\n",
    "import matplotlib.pyplot as plt\n",
    "from torch.utils.tensorboard import SummaryWriter\n",
    "import numpy as np\n",
    "import torchvision\n",
    "import shutil\n",
    "\n",
    "from skimage.metrics import peak_signal_noise_ratio as get_psnr\n",
    "from skimage.metrics import structural_similarity as get_ssim\n",
    "\n",
    "# my library\n",
    "from model import RCAN\n",
    "from data_loader import get_loader\n",
    "from utils import get_gpu_memory, sec2time"
   ]
  },
  {
   "cell_type": "code",
   "execution_count": 14,
   "metadata": {},
   "outputs": [],
   "source": [
    "class Config:\n",
    "    def __init__(self):\n",
    "        self.version = '201209_RCAN'\n",
    "        self.mode = 'original'\n",
    "        self.height = 128\n",
    "        self.width = 128\n",
    "        self.batch_size = 4\n",
    "        self.num_epochs = 200\n",
    "        self.save_image_every = 100\n",
    "        self.save_model_every = 10\n",
    "        self.scale_factor = 2\n",
    "        self.augment = True  # if True, random crop from image, else, center crop\n",
    "\n",
    "\n",
    "config = Config()\n",
    "device = 'cuda' if torch.cuda.is_available() else 'cpu'\n"
   ]
  },
  {
   "cell_type": "code",
   "execution_count": 15,
   "metadata": {},
   "outputs": [],
   "source": [
    "train_loader, test_loader = get_loader(h=config.height, w=config.width, scale_factor=config.scale_factor,\n",
    "                                       augment=config.augment, device=device, batch_size=config.batch_size)\n"
   ]
  },
  {
   "cell_type": "code",
   "execution_count": 90,
   "metadata": {},
   "outputs": [
    {
     "name": "stderr",
     "output_type": "stream",
     "text": [
      "  0%|                                                                                               | 0/25 [00:00<?, ?it/s]\n"
     ]
    }
   ],
   "source": [
    "for lr, hr, _ in tqdm(test_loader):\n",
    "    lr = lr\n",
    "    hr = hr\n",
    "    break"
   ]
  },
  {
   "cell_type": "code",
   "execution_count": 21,
   "metadata": {},
   "outputs": [],
   "source": [
    "import torch.fft as fft"
   ]
  },
  {
   "cell_type": "code",
   "execution_count": 24,
   "metadata": {},
   "outputs": [
    {
     "data": {
      "text/plain": [
       "torch.Size([4, 3, 64, 64])"
      ]
     },
     "execution_count": 24,
     "metadata": {},
     "output_type": "execute_result"
    }
   ],
   "source": [
    "lr.shape"
   ]
  },
  {
   "cell_type": "code",
   "execution_count": 30,
   "metadata": {},
   "outputs": [
    {
     "data": {
      "text/plain": [
       "torch.Size([3, 64, 64])"
      ]
     },
     "execution_count": 30,
     "metadata": {},
     "output_type": "execute_result"
    }
   ],
   "source": [
    "F = fft.fftn(lr[0,])\n",
    "F.shape"
   ]
  },
  {
   "cell_type": "code",
   "execution_count": 33,
   "metadata": {
    "collapsed": true,
    "jupyter": {
     "outputs_hidden": true
    }
   },
   "outputs": [
    {
     "data": {
      "text/plain": [
       "array([[[ 3.58961572e+03+0.00000000e+00j,\n",
       "          6.57287598e+02+8.17827515e+02j,\n",
       "          7.71832123e+01-9.49420471e+01j, ...,\n",
       "          1.45452271e+02+6.96832371e+00j,\n",
       "          7.71832123e+01+9.49420471e+01j,\n",
       "          6.57287598e+02-8.17827454e+02j],\n",
       "        [-1.44970688e+02+8.72900391e+02j,\n",
       "          1.03974304e+02+2.16679504e+02j,\n",
       "          1.53508331e+02-2.50061178e+00j, ...,\n",
       "         -1.38250702e+02+4.36591858e+02j,\n",
       "         -2.59346497e+02+6.32761612e+01j,\n",
       "          4.86668152e+02+4.39836975e+02j],\n",
       "        [ 1.56016968e+02+3.01196808e+02j,\n",
       "          7.82767868e+01+1.51306183e+02j,\n",
       "          6.97966385e+00+4.19594460e+01j, ...,\n",
       "         -6.55735092e+01-9.36855774e+01j,\n",
       "         -2.16906952e+02+3.70021057e+01j,\n",
       "         -5.25597763e+01-1.85089417e+02j],\n",
       "        ...,\n",
       "        [-2.10324326e+01-1.12571419e+02j,\n",
       "         -1.90474930e+02-1.09784546e+02j,\n",
       "         -1.06061735e+01-8.01400909e+01j, ...,\n",
       "          8.32795105e+01+3.50909500e+01j,\n",
       "          1.17789917e+02+6.17007971e+00j,\n",
       "          7.80761871e+01+2.88239908e+00j],\n",
       "        [ 1.56016968e+02-3.01196838e+02j,\n",
       "         -5.25597763e+01+1.85089417e+02j,\n",
       "         -2.16906952e+02-3.70020828e+01j, ...,\n",
       "          1.48290863e+01+2.04908180e+01j,\n",
       "          6.97965527e+00-4.19594460e+01j,\n",
       "          7.82767792e+01-1.51306183e+02j],\n",
       "        [-1.44970688e+02-8.72900391e+02j,\n",
       "          4.86668152e+02-4.39837036e+02j,\n",
       "         -2.59346466e+02-6.32761497e+01j, ...,\n",
       "          1.18527893e+02-4.59888878e+01j,\n",
       "          1.53508331e+02+2.50061369e+00j,\n",
       "          1.03974297e+02-2.16679504e+02j]],\n",
       "\n",
       "       [[ 1.01180397e+02-2.89150658e+01j,\n",
       "          5.43327713e+01+7.43154297e+01j,\n",
       "          2.38490844e+00+1.97471352e+01j, ...,\n",
       "         -5.25402451e+00-2.41223354e+01j,\n",
       "         -2.24173756e+01-1.28063679e+01j,\n",
       "         -4.44365730e+01-9.03555603e+01j],\n",
       "        [-1.18793650e+01+3.18898773e+01j,\n",
       "         -2.28432007e+01+4.93914032e+00j,\n",
       "         -1.13697948e+01+1.30129540e+00j, ...,\n",
       "          1.89539566e+01+4.83202362e+00j,\n",
       "         -8.85836792e+00-2.21265678e+01j,\n",
       "          4.26268082e+01-2.45729899e+00j],\n",
       "        [ 2.69396286e+01+8.70491886e+00j,\n",
       "          3.57619715e+00+2.30066681e+01j,\n",
       "         -7.08294773e+00+8.18512917e+00j, ...,\n",
       "          2.20315981e+00-7.61544645e-01j,\n",
       "          4.04686260e+00+3.68255758e+00j,\n",
       "          1.36849365e+01-1.66196671e+01j],\n",
       "        ...,\n",
       "        [-2.80082011e+00+5.31004047e+00j,\n",
       "         -6.74045944e+00-3.04590464e+00j,\n",
       "          4.23712730e+00-1.23868871e+00j, ...,\n",
       "          6.18593884e+00-5.26168585e+00j,\n",
       "          9.95923233e+00+5.96581650e+00j,\n",
       "         -4.82009125e+00+1.34104691e+01j],\n",
       "        [ 1.01687679e+01-3.69706650e+01j,\n",
       "          2.67438068e+01-4.22347116e+00j,\n",
       "          4.07075644e+00+2.70032430e+00j, ...,\n",
       "          2.93491983e+00+2.21493363e+00j,\n",
       "         -1.75368366e+01+5.34210873e+00j,\n",
       "         -2.39707260e+01-1.92937775e+01j],\n",
       "        [-2.75406399e+01-2.30776443e+01j,\n",
       "          2.72394295e+01-2.67169380e+01j,\n",
       "          1.30851307e+01+2.18878250e+01j, ...,\n",
       "         -1.07914486e+01+5.13692474e+00j,\n",
       "         -1.25257940e+01+8.33485794e+00j,\n",
       "         -2.36369362e+01+1.05310516e+01j]],\n",
       "\n",
       "       [[ 1.01180397e+02+2.89150658e+01j,\n",
       "         -4.44365768e+01+9.03555756e+01j,\n",
       "         -2.24173775e+01+1.28063688e+01j, ...,\n",
       "          1.58347569e+01-2.31857414e+01j,\n",
       "          2.38490772e+00-1.97471352e+01j,\n",
       "          5.43327675e+01-7.43154297e+01j],\n",
       "        [-2.75406418e+01+2.30776443e+01j,\n",
       "         -2.36369419e+01-1.05310526e+01j,\n",
       "         -1.25257950e+01-8.33485794e+00j, ...,\n",
       "          6.61850309e+00+1.92502632e+01j,\n",
       "          1.30851307e+01-2.18878250e+01j,\n",
       "          2.72394276e+01+2.67169342e+01j],\n",
       "        [ 1.01687698e+01+3.69706650e+01j,\n",
       "         -2.39707298e+01+1.92937813e+01j,\n",
       "         -1.75368385e+01-5.34210777e+00j, ...,\n",
       "          2.83065319e+00-5.33723927e+00j,\n",
       "          4.07075596e+00-2.70032454e+00j,\n",
       "          2.67438087e+01+4.22346973e+00j],\n",
       "        ...,\n",
       "        [-8.43666840e+00+1.25742269e+00j,\n",
       "          2.47031856e+00-4.60679293e+00j,\n",
       "          5.57561064e+00+6.35967827e+00j, ...,\n",
       "          5.34784222e+00+4.32567406e+00j,\n",
       "          6.27411127e-01+8.38008881e+00j,\n",
       "         -8.68681145e+00+5.37078381e+00j],\n",
       "        [ 2.69396286e+01-8.70491982e+00j,\n",
       "          1.36849384e+01+1.66196671e+01j,\n",
       "          4.04686165e+00-3.68255711e+00j, ...,\n",
       "         -3.93580317e-01+1.83904886e+00j,\n",
       "         -7.08294773e+00-8.18512917e+00j,\n",
       "          3.57619619e+00-2.30066681e+01j],\n",
       "        [-1.18793650e+01-3.18898773e+01j,\n",
       "          4.26268044e+01+2.45729661e+00j,\n",
       "         -8.85836601e+00+2.21265678e+01j, ...,\n",
       "         -1.02372646e+01-5.66986382e-01j,\n",
       "         -1.13697948e+01-1.30129361e+00j,\n",
       "         -2.28431969e+01-4.93913937e+00j]]], dtype=complex64)"
      ]
     },
     "execution_count": 33,
     "metadata": {},
     "output_type": "execute_result"
    }
   ],
   "source": [
    "F.cpu().numpy()"
   ]
  },
  {
   "cell_type": "code",
   "execution_count": 39,
   "metadata": {},
   "outputs": [],
   "source": [
    "import numpy as np\n",
    "import matplotlib.pylab as plt"
   ]
  },
  {
   "cell_type": "code",
   "execution_count": 75,
   "metadata": {},
   "outputs": [],
   "source": [
    "A= lr.cpu().numpy()[1]\n",
    "img = np.transpose(A, (1,2,0))"
   ]
  },
  {
   "cell_type": "code",
   "execution_count": 76,
   "metadata": {},
   "outputs": [
    {
     "data": {
      "text/plain": [
       "<matplotlib.image.AxesImage at 0x21e72a2a248>"
      ]
     },
     "execution_count": 76,
     "metadata": {},
     "output_type": "execute_result"
    },
    {
     "data": {
      "image/png": "[encoded data removed]",
      "text/plain": [
       "<Figure size 432x288 with 1 Axes>"
      ]
     },
     "metadata": {
      "needs_background": "light"
     },
     "output_type": "display_data"
    }
   ],
   "source": [
    "plt.imshow(img)"
   ]
  },
  {
   "cell_type": "code",
   "execution_count": 77,
   "metadata": {},
   "outputs": [
    {
     "name": "stderr",
     "output_type": "stream",
     "text": [
      "Clipping input data to the valid range for imshow with RGB data ([0..1] for floats or [0..255] for integers).\n"
     ]
    },
    {
     "data": {
      "text/plain": [
       "<matplotlib.image.AxesImage at 0x21e72a91848>"
      ]
     },
     "execution_count": 77,
     "metadata": {},
     "output_type": "execute_result"
    },
    {
     "data": {
      "image/png": "[encoded data removed]",
      "text/plain": [
       "<Figure size 432x288 with 1 Axes>"
      ]
     },
     "metadata": {
      "needs_background": "light"
     },
     "output_type": "display_data"
    }
   ],
   "source": [
    "F = np.fft.fft2(img)\n",
    "plt.imshow(F.real)"
   ]
  },
  {
   "cell_type": "code",
   "execution_count": 81,
   "metadata": {},
   "outputs": [],
   "source": [
    "IF = np.fft.ifft2(F)"
   ]
  },
  {
   "cell_type": "code",
   "execution_count": 79,
   "metadata": {},
   "outputs": [
    {
     "data": {
      "text/plain": [
       "<matplotlib.image.AxesImage at 0x21e72b07bc8>"
      ]
     },
     "execution_count": 79,
     "metadata": {},
     "output_type": "execute_result"
    },
    {
     "data": {
      "image/png": "[encoded data removed]",
      "text/plain": [
       "<Figure size 432x288 with 1 Axes>"
      ]
     },
     "metadata": {
      "needs_background": "light"
     },
     "output_type": "display_data"
    }
   ],
   "source": [
    "plt.imshow(IF.real)"
   ]
  },
  {
   "cell_type": "code",
   "execution_count": 84,
   "metadata": {},
   "outputs": [
    {
     "data": {
      "text/plain": [
       "0.555908203125"
      ]
     },
     "execution_count": 84,
     "metadata": {},
     "output_type": "execute_result"
    }
   ],
   "source": [
    "np.sum(IF.real == img)/(64**2*3)"
   ]
  },
  {
   "cell_type": "code",
   "execution_count": 119,
   "metadata": {},
   "outputs": [],
   "source": [
    "import numpy as np\n",
    "from numpy.fft import fft2, ifft2, fftshift, ifftshift\n",
    "\n",
    "#do the 2D fourier transform\n",
    "fft_img = fftshift(fft2(img))\n",
    "\n",
    "# reverse the 2D fourier transform\n",
    "freq_filt_img = ifft2(ifftshift(fft_img))\n",
    "\n",
    "freq_filt_img = np.abs(freq_filt_img)\n"
   ]
  },
  {
   "cell_type": "code",
   "execution_count": 139,
   "metadata": {},
   "outputs": [
    {
     "data": {
      "text/plain": [
       "(3, 64, 64)"
      ]
     },
     "execution_count": 139,
     "metadata": {},
     "output_type": "execute_result"
    }
   ],
   "source": [
    "ff1 = fft2(np.transpose(img, (2,0,1)))\n",
    "ff1.shape"
   ]
  },
  {
   "cell_type": "code",
   "execution_count": 140,
   "metadata": {},
   "outputs": [
    {
     "data": {
      "text/plain": [
       "(64, 64)"
      ]
     },
     "execution_count": 140,
     "metadata": {},
     "output_type": "execute_result"
    }
   ],
   "source": [
    "ff2 = fft2(img[...,0])\n",
    "ff2.shape"
   ]
  },
  {
   "cell_type": "code",
   "execution_count": 141,
   "metadata": {},
   "outputs": [
    {
     "data": {
      "text/plain": [
       "array([[ True,  True,  True, ...,  True,  True,  True],\n",
       "       [ True,  True,  True, ...,  True,  True,  True],\n",
       "       [ True,  True,  True, ...,  True,  True,  True],\n",
       "       ...,\n",
       "       [ True,  True,  True, ...,  True,  True,  True],\n",
       "       [ True,  True,  True, ...,  True,  True,  True],\n",
       "       [ True,  True,  True, ...,  True,  True,  True]])"
      ]
     },
     "execution_count": 141,
     "metadata": {},
     "output_type": "execute_result"
    }
   ],
   "source": [
    "ff1[0,...] == ff2"
   ]
  },
  {
   "cell_type": "code",
   "execution_count": 144,
   "metadata": {},
   "outputs": [
    {
     "data": {
      "text/plain": [
       "(array([[ 1.18077650e+03  +0.j        , -1.37892124e+02 -84.52934652j,\n",
       "          8.16015364e+01 -78.8973923j , ...,\n",
       "          1.34011184e+01 +49.10673969j,  8.16015364e+01 +78.8973923j ,\n",
       "         -1.37892124e+02 +84.52934652j],\n",
       "        [ 3.58382107e+02+210.33581704j,  1.10611522e+02 -10.88048652j,\n",
       "         -3.21962882e+01 +17.32091957j, ...,\n",
       "         -3.97415825e-01 -11.48612982j,  1.05138269e+00 +30.08218663j,\n",
       "         -3.36049470e+02-173.50415645j],\n",
       "        [-2.04469875e+01 +76.88315618j,  1.50729449e+02 +18.44816871j,\n",
       "          1.96899243e+01 +32.89390778j, ...,\n",
       "          1.57152262e+01 +10.0722051j , -3.40273155e+01 +38.25791835j,\n",
       "         -3.09267547e+01-153.46985473j],\n",
       "        ...,\n",
       "        [ 2.90104189e+00  -0.72313017j, -3.39032628e+01 -21.02669974j,\n",
       "         -3.98494870e+01 +33.61339838j, ...,\n",
       "          9.06164952e+00 -25.24886044j,  2.70642007e+01 -37.4737057j ,\n",
       "          6.87662649e+01 +27.10628705j],\n",
       "        [-2.04469875e+01 -76.88315618j, -3.09267547e+01+153.46985473j,\n",
       "         -3.40273155e+01 -38.25791835j, ...,\n",
       "          4.78304212e+00  -6.83828438j,  1.96899243e+01 -32.89390778j,\n",
       "          1.50729449e+02 -18.44816871j],\n",
       "        [ 3.58382107e+02-210.33581704j, -3.36049470e+02+173.50415645j,\n",
       "          1.05138269e+00 -30.08218663j, ...,\n",
       "         -2.18228006e+01 -21.03754081j, -3.21962882e+01 -17.32091957j,\n",
       "          1.10611522e+02 +10.88048652j]]),\n",
       " (64, 64))"
      ]
     },
     "execution_count": 144,
     "metadata": {},
     "output_type": "execute_result"
    }
   ],
   "source": [
    "ff2, ff2.shape"
   ]
  },
  {
   "cell_type": "code",
   "execution_count": 148,
   "metadata": {},
   "outputs": [
    {
     "data": {
      "text/plain": [
       "(tensor([[ 1.1808e+03+0.0000j, -1.3789e+02-84.5293j,  8.1602e+01-78.8974j,\n",
       "           ...,  1.3401e+01+49.1067j,  8.1602e+01+78.8974j,\n",
       "          -1.3789e+02+84.5294j],\n",
       "         [ 3.5838e+02+210.3358j,  1.1061e+02-10.8805j, -3.2196e+01+17.3209j,\n",
       "           ..., -3.9742e-01-11.4861j,  1.0514e+00+30.0822j,\n",
       "          -3.3605e+02-173.5042j],\n",
       "         [-2.0447e+01+76.8831j,  1.5073e+02+18.4482j,  1.9690e+01+32.8939j,\n",
       "           ...,  1.5715e+01+10.0722j, -3.4027e+01+38.2579j,\n",
       "          -3.0927e+01-153.4698j],\n",
       "         ...,\n",
       "         [ 2.9010e+00-0.7231j, -3.3903e+01-21.0267j, -3.9849e+01+33.6134j,\n",
       "           ...,  9.0616e+00-25.2489j,  2.7064e+01-37.4737j,\n",
       "           6.8766e+01+27.1063j],\n",
       "         [-2.0447e+01-76.8831j, -3.0927e+01+153.4698j, -3.4027e+01-38.2579j,\n",
       "           ...,  4.7830e+00-6.8383j,  1.9690e+01-32.8939j,\n",
       "           1.5073e+02-18.4482j],\n",
       "         [ 3.5838e+02-210.3358j, -3.3605e+02+173.5042j,  1.0514e+00-30.0822j,\n",
       "           ..., -2.1823e+01-21.0375j, -3.2196e+01-17.3209j,\n",
       "           1.1061e+02+10.8805j]], device='cuda:0'),\n",
       " torch.Size([64, 64]))"
      ]
     },
     "execution_count": 148,
     "metadata": {},
     "output_type": "execute_result"
    }
   ],
   "source": [
    "fft.fftn(lr[1,0]) , fft.fftn(lr[1,0]).shape"
   ]
  },
  {
   "cell_type": "code",
   "execution_count": 157,
   "metadata": {},
   "outputs": [
    {
     "data": {
      "text/plain": [
       "(torch.Size([4, 3, 64, 64]), torch.Size([64, 64]))"
      ]
     },
     "execution_count": 157,
     "metadata": {},
     "output_type": "execute_result"
    }
   ],
   "source": [
    "f1 = fft.fftn(lr, dim=(2,3))\n",
    "f2 = fft.fftn(lr[0,0])\n",
    "f1.shape, f2.shape\n",
    "\n"
   ]
  },
  {
   "cell_type": "code",
   "execution_count": 158,
   "metadata": {},
   "outputs": [
    {
     "data": {
      "text/plain": [
       "tensor([[True, True, True,  ..., True, True, True],\n",
       "        [True, True, True,  ..., True, True, True],\n",
       "        [True, True, True,  ..., True, True, True],\n",
       "        ...,\n",
       "        [True, True, True,  ..., True, True, True],\n",
       "        [True, True, True,  ..., True, True, True],\n",
       "        [True, True, True,  ..., True, True, True]], device='cuda:0')"
      ]
     },
     "execution_count": 158,
     "metadata": {},
     "output_type": "execute_result"
    }
   ],
   "source": [
    "f1[0,0] == f2"
   ]
  },
  {
   "cell_type": "code",
   "execution_count": 164,
   "metadata": {},
   "outputs": [
    {
     "data": {
      "text/plain": [
       "tensor([[0.0784, 0.1098, 0.1490,  ..., 0.3961, 0.4000, 0.4039],\n",
       "        [0.0824, 0.1020, 0.1333,  ..., 0.4039, 0.4000, 0.4039],\n",
       "        [0.0745, 0.0941, 0.1294,  ..., 0.4000, 0.3804, 0.3843],\n",
       "        ...,\n",
       "        [0.8392, 0.8431, 0.8471,  ..., 0.6039, 0.6235, 0.6431],\n",
       "        [0.8353, 0.8510, 0.8431,  ..., 0.6588, 0.6667, 0.6275],\n",
       "        [0.8314, 0.8471, 0.8627,  ..., 0.6627, 0.6392, 0.5961]],\n",
       "       device='cuda:0', grad_fn=<SelectBackward>)"
      ]
     },
     "execution_count": 164,
     "metadata": {},
     "output_type": "execute_result"
    }
   ],
   "source": [
    "fft.ifftn(f2).real "
   ]
  },
  {
   "cell_type": "code",
   "execution_count": 165,
   "metadata": {},
   "outputs": [
    {
     "data": {
      "text/plain": [
       "tensor([[0.0784, 0.1098, 0.1490,  ..., 0.3961, 0.4000, 0.4039],\n",
       "        [0.0824, 0.1020, 0.1333,  ..., 0.4039, 0.4000, 0.4039],\n",
       "        [0.0745, 0.0941, 0.1294,  ..., 0.4000, 0.3804, 0.3843],\n",
       "        ...,\n",
       "        [0.8392, 0.8431, 0.8471,  ..., 0.6039, 0.6235, 0.6431],\n",
       "        [0.8353, 0.8510, 0.8431,  ..., 0.6588, 0.6667, 0.6275],\n",
       "        [0.8314, 0.8471, 0.8627,  ..., 0.6627, 0.6392, 0.5961]],\n",
       "       device='cuda:0', grad_fn=<SelectBackward>)"
      ]
     },
     "execution_count": 165,
     "metadata": {},
     "output_type": "execute_result"
    }
   ],
   "source": [
    "lr[0,0]"
   ]
  },
  {
   "cell_type": "code",
   "execution_count": 168,
   "metadata": {},
   "outputs": [
    {
     "data": {
      "text/plain": [
       "tensor([[[[ 0.0000e+00,  3.2750e+02, -2.0796e+01,  ..., -1.3447e+01,\n",
       "            2.0796e+01, -3.2750e+02],\n",
       "          [ 3.0929e+02,  7.0363e+01, -3.1781e+00,  ...,  1.5356e+02,\n",
       "            6.4206e+00,  1.5470e+02],\n",
       "          [ 1.1562e+02,  6.4536e+01,  1.4934e+01,  ..., -3.3261e+01,\n",
       "            1.2661e+01, -6.5829e+01],\n",
       "          ...,\n",
       "          [-3.5335e+01, -3.9146e+01, -2.5006e+01,  ...,  1.1385e+01,\n",
       "            6.8387e+00,  7.2212e+00],\n",
       "          [-1.1562e+02,  6.5829e+01, -1.2661e+01,  ...,  8.1816e+00,\n",
       "           -1.4934e+01, -6.4536e+01],\n",
       "          [-3.0929e+02, -1.5470e+02, -6.4206e+00,  ..., -1.3806e+01,\n",
       "            3.1781e+00, -7.0363e+01]],\n",
       "\n",
       "         [[ 0.0000e+00,  2.7368e+02, -2.9913e+01,  ...,  4.1196e+00,\n",
       "            2.9913e+01, -2.7368e+02],\n",
       "          [ 2.8633e+02,  7.3388e+01,  6.7243e-01,  ...,  1.4508e+02,\n",
       "            2.2093e+01,  1.4701e+02],\n",
       "          [ 9.7628e+01,  5.1337e+01,  1.6530e+01,  ..., -3.0393e+01,\n",
       "            1.2163e+01, -6.3400e+01],\n",
       "          ...,\n",
       "          [-3.6991e+01, -3.7978e+01, -2.7953e+01,  ...,  1.2095e+01,\n",
       "            2.3596e+00, -1.0532e+00],\n",
       "          [-9.7628e+01,  6.3400e+01, -1.2163e+01,  ...,  7.1155e+00,\n",
       "           -1.6530e+01, -5.1337e+01],\n",
       "          [-2.8633e+02, -1.4701e+02, -2.2093e+01,  ..., -1.6251e+01,\n",
       "           -6.7243e-01, -7.3388e+01]],\n",
       "\n",
       "         [[ 0.0000e+00,  2.1665e+02, -4.4233e+01,  ...,  1.6295e+01,\n",
       "            4.4233e+01, -2.1665e+02],\n",
       "          [ 2.7728e+02,  7.2929e+01,  5.0123e-03,  ...,  1.3796e+02,\n",
       "            3.4762e+01,  1.3813e+02],\n",
       "          [ 8.7945e+01,  3.5433e+01,  1.0495e+01,  ..., -3.0031e+01,\n",
       "            1.2177e+01, -5.5861e+01],\n",
       "          ...,\n",
       "          [-4.0245e+01, -3.2660e+01, -2.7180e+01,  ...,  1.1611e+01,\n",
       "           -3.0282e+00, -3.2856e+00],\n",
       "          [-8.7945e+01,  5.5861e+01, -1.2177e+01,  ...,  5.1938e+00,\n",
       "           -1.0495e+01, -3.5433e+01],\n",
       "          [-2.7728e+02, -1.3813e+02, -3.4762e+01,  ..., -1.5931e+01,\n",
       "           -5.0170e-03, -7.2929e+01]]],\n",
       "\n",
       "\n",
       "        [[[ 0.0000e+00, -8.4529e+01, -7.8897e+01,  ...,  4.9107e+01,\n",
       "            7.8897e+01,  8.4529e+01],\n",
       "          [ 2.1034e+02, -1.0880e+01,  1.7321e+01,  ..., -1.1486e+01,\n",
       "            3.0082e+01, -1.7350e+02],\n",
       "          [ 7.6883e+01,  1.8448e+01,  3.2894e+01,  ...,  1.0072e+01,\n",
       "            3.8258e+01, -1.5347e+02],\n",
       "          ...,\n",
       "          [-7.2313e-01, -2.1027e+01,  3.3613e+01,  ..., -2.5249e+01,\n",
       "           -3.7474e+01,  2.7106e+01],\n",
       "          [-7.6883e+01,  1.5347e+02, -3.8258e+01,  ..., -6.8383e+00,\n",
       "           -3.2894e+01, -1.8448e+01],\n",
       "          [-2.1034e+02,  1.7350e+02, -3.0082e+01,  ..., -2.1038e+01,\n",
       "           -1.7321e+01,  1.0880e+01]],\n",
       "\n",
       "         [[ 0.0000e+00, -1.9289e+02, -1.8036e+02,  ...,  1.2611e+02,\n",
       "            1.8036e+02,  1.9289e+02],\n",
       "          [-9.6706e+01,  2.0186e+01,  7.8385e+01,  ..., -1.9934e+01,\n",
       "           -2.4174e+01, -1.3666e+02],\n",
       "          [ 4.2937e+01, -4.0503e+01, -4.9941e+00,  ...,  1.5474e+00,\n",
       "            3.5642e+01, -1.6369e+02],\n",
       "          ...,\n",
       "          [ 6.2017e+01, -4.3533e+01,  5.2896e+01,  ..., -7.0868e+00,\n",
       "           -2.0138e+01,  8.3188e+00],\n",
       "          [-4.2937e+01,  1.6369e+02, -3.5642e+01,  ..., -1.0254e-01,\n",
       "            4.9941e+00,  4.0503e+01],\n",
       "          [ 9.6706e+01,  1.3666e+02,  2.4174e+01,  ..., -6.4868e+01,\n",
       "           -7.8385e+01, -2.0186e+01]],\n",
       "\n",
       "         [[ 0.0000e+00, -1.3336e+01,  6.5591e+00,  ...,  2.9476e+01,\n",
       "           -6.5591e+00,  1.3336e+01],\n",
       "          [ 4.5733e+01, -2.1381e+01,  3.7271e+01,  ..., -9.0499e+00,\n",
       "            1.2097e+01, -8.4062e+01],\n",
       "          [ 3.0614e+01, -4.7423e+00,  2.9414e+01,  ..., -1.4235e+01,\n",
       "            4.9942e+01, -9.8834e+01],\n",
       "          ...,\n",
       "          [ 1.3159e+01,  3.3978e+01, -2.5694e+01,  ...,  1.3345e+00,\n",
       "           -4.2377e+01,  5.5657e+00],\n",
       "          [-3.0614e+01,  9.8834e+01, -4.9942e+01,  ...,  1.4630e+01,\n",
       "           -2.9414e+01,  4.7423e+00],\n",
       "          [-4.5733e+01,  8.4063e+01, -1.2097e+01,  ...,  8.7246e+00,\n",
       "           -3.7271e+01,  2.1381e+01]]],\n",
       "\n",
       "\n",
       "        [[[ 0.0000e+00, -6.5296e+01, -2.8444e+01,  ...,  1.2793e+01,\n",
       "            2.8444e+01,  6.5296e+01],\n",
       "          [-1.8794e+02, -3.8285e+01,  5.1434e+01,  ...,  1.0973e+00,\n",
       "           -2.2253e+01,  2.2693e+01],\n",
       "          [-9.3383e+01, -3.7762e+01, -1.5403e+01,  ..., -5.9058e+00,\n",
       "           -8.6527e+00,  9.8694e-01],\n",
       "          ...,\n",
       "          [ 6.2422e+01,  5.8367e+00,  1.5332e+01,  ...,  3.8025e+01,\n",
       "           -1.1364e+01,  5.6784e+00],\n",
       "          [ 9.3383e+01, -9.8694e-01,  8.6527e+00,  ..., -3.6713e+01,\n",
       "            1.5403e+01,  3.7762e+01],\n",
       "          [ 1.8794e+02, -2.2693e+01,  2.2253e+01,  ...,  2.1574e+01,\n",
       "           -5.1434e+01,  3.8285e+01]],\n",
       "\n",
       "         [[ 0.0000e+00, -1.2811e+02, -4.6633e+01,  ...,  2.6099e+01,\n",
       "            4.6633e+01,  1.2811e+02],\n",
       "          [-2.3435e+02, -3.9606e+01,  5.0389e+01,  ..., -4.6760e+00,\n",
       "           -1.7043e+01,  2.7284e+01],\n",
       "          [-1.1112e+02, -5.7462e+01, -2.6909e+01,  ...,  1.9862e+00,\n",
       "            3.4178e+00,  1.1878e+01],\n",
       "          ...,\n",
       "          [ 8.8439e+01,  4.9019e+00,  1.3104e+01,  ...,  2.2820e+01,\n",
       "           -3.0228e+01,  6.6390e+00],\n",
       "          [ 1.1112e+02, -1.1878e+01, -3.4178e+00,  ..., -3.1176e+01,\n",
       "            2.6909e+01,  5.7462e+01],\n",
       "          [ 2.3435e+02, -2.7284e+01,  1.7043e+01,  ...,  2.6177e+01,\n",
       "           -5.0389e+01,  3.9606e+01]],\n",
       "\n",
       "         [[ 0.0000e+00, -6.3772e+00, -2.2514e+00,  ...,  4.6731e-01,\n",
       "            2.2514e+00,  6.3772e+00],\n",
       "          [-2.3449e+01, -1.1063e+00,  2.0002e+00,  ..., -4.0436e-01,\n",
       "           -3.4487e+00,  2.0082e+00],\n",
       "          [-1.2540e+01, -4.3285e+00, -7.8353e-01,  ..., -1.2880e-01,\n",
       "           -6.7714e-01,  1.5558e+00],\n",
       "          ...,\n",
       "          [ 9.6199e+00,  7.5619e-01,  2.9236e+00,  ...,  7.0677e-01,\n",
       "            2.0734e-01,  8.2490e-01],\n",
       "          [ 1.2540e+01, -1.5558e+00,  6.7714e-01,  ..., -1.1560e+00,\n",
       "            7.8353e-01,  4.3285e+00],\n",
       "          [ 2.3449e+01, -2.0082e+00,  3.4487e+00,  ...,  3.5920e+00,\n",
       "           -2.0002e+00,  1.1063e+00]]],\n",
       "\n",
       "\n",
       "        [[[ 0.0000e+00,  8.8088e+00,  3.2402e+01,  ...,  1.1480e+01,\n",
       "           -3.2402e+01, -8.8088e+00],\n",
       "          [-5.0518e+01, -8.2838e+01, -4.2231e+01,  ...,  1.5246e+01,\n",
       "           -5.7562e+01,  4.0816e+01],\n",
       "          [-7.5499e+01,  1.5340e+02,  5.4241e-01,  ..., -5.3259e+01,\n",
       "           -1.8939e+01, -3.5597e+01],\n",
       "          ...,\n",
       "          [ 5.8465e+01, -4.2644e+01, -8.6142e+00,  ..., -1.4969e+01,\n",
       "           -1.5201e+01,  2.0267e+01],\n",
       "          [ 7.5499e+01,  3.5597e+01,  1.8939e+01,  ..., -4.1068e+01,\n",
       "           -5.4240e-01, -1.5340e+02],\n",
       "          [ 5.0518e+01, -4.0816e+01,  5.7562e+01,  ...,  3.9712e+01,\n",
       "            4.2231e+01,  8.2838e+01]],\n",
       "\n",
       "         [[ 0.0000e+00, -3.5474e+01,  1.6639e+00,  ...,  5.1918e+00,\n",
       "           -1.6639e+00,  3.5474e+01],\n",
       "          [ 1.1608e+02, -3.8068e+01, -3.7994e+01,  ...,  1.2888e+00,\n",
       "           -9.5015e+01, -2.9886e+01],\n",
       "          [-8.0504e+01,  1.2319e+02, -3.1168e+01,  ..., -5.5486e+01,\n",
       "           -3.0080e+01,  5.0338e-01],\n",
       "          ...,\n",
       "          [ 7.5951e+00, -2.2794e+01, -1.7120e+01,  ..., -1.5303e+01,\n",
       "           -2.4723e+01,  5.4949e+01],\n",
       "          [ 8.0504e+01, -5.0338e-01,  3.0080e+01,  ..., -5.4138e+01,\n",
       "            3.1168e+01, -1.2319e+02],\n",
       "          [-1.1608e+02,  2.9886e+01,  9.5015e+01,  ...,  1.9915e+01,\n",
       "            3.7994e+01,  3.8068e+01]],\n",
       "\n",
       "         [[ 0.0000e+00, -7.9253e+01, -1.0180e+01,  ...,  4.4432e+00,\n",
       "            1.0180e+01,  7.9253e+01],\n",
       "          [ 1.6442e+02, -1.5798e+01, -1.9026e+01,  ..., -1.0401e+01,\n",
       "           -1.0979e+02, -6.1787e+01],\n",
       "          [-1.1234e+02,  1.2926e+02, -3.8541e+01,  ..., -5.9452e+01,\n",
       "           -3.3749e+01,  2.4915e+01],\n",
       "          ...,\n",
       "          [-4.9749e+00, -1.6796e+01, -2.0008e+01,  ..., -1.2093e+01,\n",
       "           -3.8486e+01,  7.7965e+01],\n",
       "          [ 1.1234e+02, -2.4915e+01,  3.3749e+01,  ..., -5.2959e+01,\n",
       "            3.8541e+01, -1.2926e+02],\n",
       "          [-1.6442e+02,  6.1787e+01,  1.0979e+02,  ...,  2.6450e+01,\n",
       "            1.9026e+01,  1.5798e+01]]]], device='cuda:0',\n",
       "       grad_fn=<SelectBackward>)"
      ]
     },
     "execution_count": 168,
     "metadata": {},
     "output_type": "execute_result"
    }
   ],
   "source": [
    "f1.imag"
   ]
  },
  {
   "cell_type": "code",
   "execution_count": 170,
   "metadata": {},
   "outputs": [
    {
     "ename": "TypeError",
     "evalue": "imag() missing 1 required positional arguments: \"input\"",
     "output_type": "error",
     "traceback": [
      "\u001b[1;31m---------------------------------------------------------------------------\u001b[0m",
      "\u001b[1;31mTypeError\u001b[0m                                 Traceback (most recent call last)",
      "\u001b[1;32m<ipython-input-170-b5a95eaf6515>\u001b[0m in \u001b[0;36m<module>\u001b[1;34m\u001b[0m\n\u001b[1;32m----> 1\u001b[1;33m \u001b[0mtorch\u001b[0m\u001b[1;33m.\u001b[0m\u001b[0mimag\u001b[0m\u001b[1;33m(\u001b[0m\u001b[1;33m)\u001b[0m\u001b[1;33m\u001b[0m\u001b[1;33m\u001b[0m\u001b[0m\n\u001b[0m",
      "\u001b[1;31mTypeError\u001b[0m: imag() missing 1 required positional arguments: \"input\""
     ]
    }
   ],
   "source": [
    "torch.imag()"
   ]
  },
  {
   "cell_type": "code",
   "execution_count": 172,
   "metadata": {},
   "outputs": [],
   "source": [
    "config.mode = \"aa\"\n",
    "weight_dir = f'./weights/{config.version}/{config.mode}'\n",
    "if os.path.isdir(weight_dir):\n",
    "    shutil.rmtree(weight_dir)\n",
    "os.makedirs(weight_dir, exist_ok=True)"
   ]
  },
  {
   "cell_type": "code",
   "execution_count": null,
   "metadata": {},
   "outputs": [],
   "source": []
  }
 ],
 "metadata": {
  "kernelspec": {
   "display_name": "Python 3",
   "language": "python",
   "name": "python3"
  },
  "language_info": {
   "codemirror_mode": {
    "name": "ipython",
    "version": 3
   },
   "file_extension": ".py",
   "mimetype": "text/x-python",
   "name": "python",
   "nbconvert_exporter": "python",
   "pygments_lexer": "ipython3",
   "version": "3.7.9"
  }
 },
 "nbformat": 4,
 "nbformat_minor": 4
}
